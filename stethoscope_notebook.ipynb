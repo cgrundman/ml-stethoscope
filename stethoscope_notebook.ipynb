{
  "nbformat": 4,
  "nbformat_minor": 0,
  "metadata": {
    "colab": {
      "provenance": [],
      "authorship_tag": "ABX9TyMRQV89hQ7yTxOW6URSevbf",
      "include_colab_link": true
    },
    "kernelspec": {
      "name": "python3",
      "display_name": "Python 3"
    },
    "language_info": {
      "name": "python"
    }
  },
  "cells": [
    {
      "cell_type": "markdown",
      "metadata": {
        "id": "view-in-github",
        "colab_type": "text"
      },
      "source": [
        "<a href=\"https://colab.research.google.com/github/cgrundman/ml-stethoscope/blob/main/stethoscope_notebook.ipynb\" target=\"_parent\"><img src=\"https://colab.research.google.com/assets/colab-badge.svg\" alt=\"Open In Colab\"/></a>"
      ]
    },
    {
      "cell_type": "markdown",
      "source": [
        "#Machine Learned Stethoscope"
      ],
      "metadata": {
        "id": "eFrZtLXiCqF9"
      }
    },
    {
      "cell_type": "markdown",
      "source": [
        "##Setup Notebook"
      ],
      "metadata": {
        "id": "WSNaksd8Cw47"
      }
    },
    {
      "cell_type": "code",
      "execution_count": 2,
      "metadata": {
        "colab": {
          "base_uri": "https://localhost:8080/"
        },
        "id": "USk_RWQE79nl",
        "outputId": "dd36decf-b489-4dc6-961d-aadc2b800b3a"
      },
      "outputs": [
        {
          "output_type": "stream",
          "name": "stdout",
          "text": [
            "Mounted at /content/gdrive\n"
          ]
        }
      ],
      "source": [
        "from google.colab import drive\n",
        "drive.mount('/content/gdrive')"
      ]
    },
    {
      "cell_type": "code",
      "source": [
        "%cd /content/drive/MyDrive/Github/"
      ],
      "metadata": {
        "colab": {
          "base_uri": "https://localhost:8080/"
        },
        "id": "UQDD03ID-ja7",
        "outputId": "12c3411b-e03d-4491-c2d5-048d87269135"
      },
      "execution_count": 3,
      "outputs": [
        {
          "output_type": "stream",
          "name": "stdout",
          "text": [
            "[Errno 107] Transport endpoint is not connected: '/content/drive/MyDrive/Github/'\n",
            "/content\n"
          ]
        }
      ]
    },
    {
      "cell_type": "code",
      "source": [
        "file_loc = '/content/gdrive/My Drive/Colab Notebooks/Machine Learned Stethoscope/' "
      ],
      "metadata": {
        "id": "NQMwGQco81H-"
      },
      "execution_count": null,
      "outputs": []
    },
    {
      "cell_type": "markdown",
      "source": [
        "##Import Statements"
      ],
      "metadata": {
        "id": "0tXs1SOJC4A_"
      }
    },
    {
      "cell_type": "code",
      "source": [
        "import pandas as pd"
      ],
      "metadata": {
        "id": "I6tql7JSDAl-"
      },
      "execution_count": 4,
      "outputs": []
    },
    {
      "cell_type": "markdown",
      "source": [
        "##Read the Data"
      ],
      "metadata": {
        "id": "8VRGYh4RC7BN"
      }
    },
    {
      "cell_type": "code",
      "source": [],
      "metadata": {
        "id": "n-aw40HrDBFk"
      },
      "execution_count": null,
      "outputs": []
    }
  ]
}