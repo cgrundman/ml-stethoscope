{
  "nbformat": 4,
  "nbformat_minor": 0,
  "metadata": {
    "colab": {
      "provenance": [],
      "toc_visible": true,
      "authorship_tag": "ABX9TyMwb2iDqOOshebTukeALpYg",
      "include_colab_link": true
    },
    "kernelspec": {
      "name": "python3",
      "display_name": "Python 3"
    },
    "language_info": {
      "name": "python"
    },
    "accelerator": "GPU",
    "gpuClass": "standard"
  },
  "cells": [
    {
      "cell_type": "markdown",
      "metadata": {
        "id": "view-in-github",
        "colab_type": "text"
      },
      "source": [
        "<a href=\"https://colab.research.google.com/github/cgrundman/ml-stethoscope/blob/main/code/ml_stethoscope_modeling.ipynb\" target=\"_parent\"><img src=\"https://colab.research.google.com/assets/colab-badge.svg\" alt=\"Open In Colab\"/></a>"
      ]
    },
    {
      "cell_type": "markdown",
      "source": [
        "# Machine-Learned Stethoscope - Modeling\n",
        "\n",
        "*   List item\n",
        "*   List item\n",
        "\n"
      ],
      "metadata": {
        "id": "w2cG2kw3lknS"
      }
    },
    {
      "cell_type": "markdown",
      "source": [
        "## Import Statements"
      ],
      "metadata": {
        "id": "PlVlWittltzk"
      }
    },
    {
      "cell_type": "code",
      "execution_count": 11,
      "metadata": {
        "id": "ApWt3sj-lTwb"
      },
      "outputs": [],
      "source": [
        "from google.colab import files, drive\n",
        "import pandas as pd\n",
        "import numpy as np\n",
        "\n",
        "from scipy.io import wavfile\n",
        "import plotly.express as px\n",
        "import seaborn as sns\n",
        "import matplotlib.pyplot as plt\n",
        "import matplotlib.dates as mdates\n",
        "\n",
        "import tensorflow as tf\n",
        "from tensorflow import keras\n",
        "from tensorflow.keras import layers\n",
        "\n",
        "import librosa as lb\n",
        "import librosa.display as lbd\n",
        "import os"
      ]
    },
    {
      "cell_type": "markdown",
      "source": [
        "## Load Data From Preprocessing"
      ],
      "metadata": {
        "id": "v-FLEpe8l5WD"
      }
    },
    {
      "cell_type": "code",
      "source": [
        "# files.upload() # Load processed_audio_files.zip, train.csv, and val.csv\n",
        "!pip install -q PyDrive"
      ],
      "metadata": {
        "id": "uW6-cDhel45k"
      },
      "execution_count": 4,
      "outputs": []
    },
    {
      "cell_type": "code",
      "source": [
        "import os\n",
        "from pydrive.auth import GoogleAuth\n",
        "from pydrive.drive import GoogleDrive\n",
        "from google.colab import auth\n",
        "from oauth2client.client import GoogleCredentials"
      ],
      "metadata": {
        "id": "v6XHrxaH2Plx"
      },
      "execution_count": 13,
      "outputs": []
    },
    {
      "cell_type": "code",
      "source": [
        "auth.authenticate_user()\n",
        "gauth = GoogleAuth()\n",
        "gauth.credentials = GoogleCredentials.get_application_default()\n",
        "drive = GoogleDrive(gauth)"
      ],
      "metadata": {
        "id": "dym2_nUy2UOG"
      },
      "execution_count": 7,
      "outputs": []
    },
    {
      "cell_type": "code",
      "source": [
        "https://drive.google.com/file/d/1VKVMgyBY4s8OE0HzTFD-mWMJliiy7_UZ/view?usp=share_link\n",
        "https://drive.google.com/file/d/16tbj1KZbUXMKcxFd1JQIHsvNneEdJPqV/view?usp=sharing\n",
        "\n",
        "https://drive.google.com/open?id=YOUR_FILE_ID\n",
        "\n",
        "https://drive.google.com/file/d/1VKVMgyBY4s8OE0HzTFD-mWMJliiy7_UZ/view?usp=sharing"
      ],
      "metadata": {
        "id": "0fe8fLut4fn6"
      },
      "execution_count": null,
      "outputs": []
    },
    {
      "cell_type": "code",
      "source": [
        "# download = drive.CreateFile({'id': '1VKVMgyBY4s8OE0HzTFD-mWMJliiy7_UZ'})\n",
        "# download.GetContentFile('processed_audio_files')\n",
        "! gdown 1VKVMgyBY4s8OE0HzTFD-mWMJliiy7_UZ"
      ],
      "metadata": {
        "colab": {
          "base_uri": "https://localhost:8080/"
        },
        "id": "zHsrEskz4c48",
        "outputId": "deb876b3-ef77-4d71-e986-4bee59156537"
      },
      "execution_count": 20,
      "outputs": [
        {
          "output_type": "stream",
          "name": "stdout",
          "text": [
            "Access denied with the following error:\n",
            "\n",
            " \tCannot retrieve the public link of the file. You may need to change\n",
            "\tthe permission to 'Anyone with the link', or have had many accesses. \n",
            "\n",
            "You may still be able to access the file from the browser:\n",
            "\n",
            "\t https://drive.google.com/uc?id=1VKVMgyBY4s8OE0HzTFD-mWMJliiy7_UZ \n",
            "\n"
          ]
        }
      ]
    },
    {
      "cell_type": "code",
      "source": [
        "!unzip -qq processed_audio_files.zip -d processed_audio_files"
      ],
      "metadata": {
        "id": "xnXJ3n8espNL"
      },
      "execution_count": null,
      "outputs": []
    },
    {
      "cell_type": "code",
      "source": [
        "files.upload() # Load train.csv"
      ],
      "metadata": {
        "id": "8WQ19DNYrYiq"
      },
      "execution_count": null,
      "outputs": []
    },
    {
      "cell_type": "code",
      "source": [
        "files.upload() # Load val.csv"
      ],
      "metadata": {
        "id": "dkylVlm6recl"
      },
      "execution_count": null,
      "outputs": []
    },
    {
      "cell_type": "code",
      "source": [
        "train = pd.read_csv('content/train.csv')\n",
        "val = pd.read_csv('content/val.csv')\n",
        "train.head()"
      ],
      "metadata": {
        "id": "6icOmZsUrWOb"
      },
      "execution_count": null,
      "outputs": []
    },
    {
      "cell_type": "code",
      "source": [
        "ytrain = train.disease\n",
        "yval = val.disease\n",
        "yval"
      ],
      "metadata": {
        "id": "diXTe7xurq6A"
      },
      "execution_count": null,
      "outputs": []
    },
    {
      "cell_type": "code",
      "source": [
        "from sklearn.preprocessing import LabelEncoder\n",
        "\n",
        "le = LabelEncoder()\n",
        "ytrain = le.fit_transform(ytrain)\n",
        "yval = le.transform(yval)"
      ],
      "metadata": {
        "id": "c-lD2VBcr4ej"
      },
      "execution_count": null,
      "outputs": []
    },
    {
      "cell_type": "markdown",
      "source": [
        "## Feature Extraction"
      ],
      "metadata": {
        "id": "LTp_NBZRsB4v"
      }
    },
    {
      "cell_type": "code",
      "source": [
        "def getFeatures(path):\n",
        "    soundArr,sample_rate = lb.load(path)\n",
        "    mfcc = lb.feature.mfcc(y=soundArr,sr=sample_rate)\n",
        "    cstft = lb.feature.chroma_stft(y=soundArr,sr=sample_rate)\n",
        "    mSpec = lb.feature.melspectrogram(y=soundArr,sr=sample_rate)\n",
        "\n",
        "    return mfcc,cstft,mSpec"
      ],
      "metadata": {
        "id": "ZqeD45edsF_s"
      },
      "execution_count": null,
      "outputs": []
    },
    {
      "cell_type": "code",
      "source": [
        "root = '/content/processed_audio_files/'\n",
        "mfcc, cstft, mSpec = [], [], []\n",
        "\n",
        "for idx,row in val.iterrows():\n",
        "    path = root + row['filename']\n",
        "    a, b, c, d, e = getFeatures(path)\n",
        "    mfcc.append(a)\n",
        "    cstft.append(b)\n",
        "    mSpec.append(c)\n",
        "    \n",
        "mfcc_val = np.array(mfcc)\n",
        "cstft_val = np.array(cstft)\n",
        "mSpec_val = np.array(mSpec)"
      ],
      "metadata": {
        "id": "CZLCpnEssI_9"
      },
      "execution_count": null,
      "outputs": []
    },
    {
      "cell_type": "code",
      "source": [
        "root='/content/processed_audio_files/'\n",
        "mfcc, cstft, mSpec, tone, specCen = [], [], [], [], []\n",
        "\n",
        "for idx,row in train.iterrows():\n",
        "    path = root + row['filename']\n",
        "    a, b, c, d, e = getFeatures(path)\n",
        "    mfcc.append(a)\n",
        "    cstft.append(b)\n",
        "    mSpec.append(c)\n",
        "    tone.append(d)\n",
        "    specCen.append(e)\n",
        "    \n",
        "mfcc_train=np.array(mfcc)\n",
        "cstft_train=np.array(cstft)\n",
        "mSpec_train=np.array(mSpec)"
      ],
      "metadata": {
        "id": "trwE2SGptahQ"
      },
      "execution_count": null,
      "outputs": []
    },
    {
      "cell_type": "markdown",
      "source": [
        "## Testing Features"
      ],
      "metadata": {
        "id": "yax5fuF5t8vj"
      }
    },
    {
      "cell_type": "code",
      "source": [
        "my_callbacks = [\n",
        "    tf.keras.callbacks.EarlyStopping(patience=5),\n",
        "    tf.keras.callbacks.ReduceLROnPlateau(monitor='val_loss', factor=0.1,\n",
        "                              patience=3, min_lr=0.00001,mode='min')\n",
        "]"
      ],
      "metadata": {
        "id": "DfLHRcd7t_gK"
      },
      "execution_count": null,
      "outputs": []
    },
    {
      "cell_type": "markdown",
      "source": [
        "### a. MFCC Model"
      ],
      "metadata": {
        "id": "u8ueeWiRwxr0"
      }
    },
    {
      "cell_type": "code",
      "source": [
        "mfcc_input = keras.layers.Input(shape=(20,259,1),name=\"mfccInput\")\n",
        "x = keras.layers.Conv2D(32,5,strides=(1,3),padding='same')(mfcc_input)\n",
        "x = keras.layers.BatchNormalization()(x)\n",
        "x = keras.layers.Activation(keras.activations.relu)(x)\n",
        "x = keras.layers.MaxPooling2D(pool_size=2,padding='valid')(x)\n",
        "\n",
        "x = keras.layers.Conv2D(64,3,strides=(1,2),padding='same')(x)\n",
        "x = keras.layers.BatchNormalization()(x)\n",
        "x = keras.layers.Activation(keras.activations.relu)(x)\n",
        "x = keras.layers.MaxPooling2D(pool_size=2,padding='valid')(x)\n",
        "\n",
        "x = keras.layers.Conv2D(96,2,padding='same')(x)\n",
        "x = keras.layers.BatchNormalization()(x)\n",
        "x = keras.layers.Activation(keras.activations.relu)(x)\n",
        "x = keras.layers.MaxPooling2D(pool_size=2,padding='valid')(x)\n",
        "\n",
        "x = keras.layers.Conv2D(128,2,padding='same')(x)\n",
        "x = keras.layers.BatchNormalization()(x)\n",
        "x = keras.layers.Activation(keras.activations.relu)(x)\n",
        "mfcc_output = keras.layers.GlobalMaxPooling2D()(x)\n",
        "\n",
        "mfcc_model = keras.Model(mfcc_input, mfcc_output, name=\"mfccModel\")"
      ],
      "metadata": {
        "id": "lSF8CluXuCfd"
      },
      "execution_count": null,
      "outputs": []
    },
    {
      "cell_type": "code",
      "source": [
        "mfcc_model.summary()"
      ],
      "metadata": {
        "id": "01kmVpAvuVNx"
      },
      "execution_count": null,
      "outputs": []
    },
    {
      "cell_type": "markdown",
      "source": [
        "### b. CROMA Model"
      ],
      "metadata": {
        "id": "EEuSomBqw07x"
      }
    },
    {
      "cell_type": "code",
      "source": [
        "croma_input = keras.layers.Input(shape=(12,259,1),name=\"cromaInput\")\n",
        "x = keras.layers.Conv2D(32,5,strides=(1,3),padding='same')(croma_input)\n",
        "x = keras.layers.BatchNormalization()(x)\n",
        "x = keras.layers.Activation(keras.activations.relu)(x)\n",
        "x = keras.layers.MaxPooling2D(pool_size=2,padding='valid')(x)\n",
        "\n",
        "x = keras.layers.Conv2D(64,3,strides=(1,2),padding='same')(x)\n",
        "x = keras.layers.BatchNormalization()(x)\n",
        "x = keras.layers.Activation(keras.activations.relu)(x)\n",
        "x = keras.layers.MaxPooling2D(pool_size=2,padding='valid')(x)\n",
        "\n",
        "x = keras.layers.Conv2D(128,2,padding='same')(x)\n",
        "x = keras.layers.BatchNormalization()(x)\n",
        "x = keras.layers.Activation(keras.activations.relu)(x)\n",
        "croma_output = keras.layers.GlobalMaxPooling2D()(x)\n",
        "\n",
        "croma_model = keras.Model(croma_input, croma_output, name=\"cromaModel\")"
      ],
      "metadata": {
        "id": "FZzvv_QFueAg"
      },
      "execution_count": null,
      "outputs": []
    },
    {
      "cell_type": "code",
      "source": [
        "croma_model.summary()"
      ],
      "metadata": {
        "id": "xZn7CEH0uoj6"
      },
      "execution_count": null,
      "outputs": []
    },
    {
      "cell_type": "markdown",
      "source": [
        "### c. MSPEC model"
      ],
      "metadata": {
        "id": "lNKIzeRFxP23"
      }
    },
    {
      "cell_type": "code",
      "source": [
        "mSpec_input = keras.layers.Input(shape=(128,259,1),name=\"mSpecInput\")\n",
        "x = keras.layers.Conv2D(32,5,strides=(2,3),padding='same')(mSpec_input)\n",
        "x = keras.layers.BatchNormalization()(x)\n",
        "x = keras.layers.Activation(keras.activations.relu)(x)\n",
        "x = keras.layers.MaxPooling2D(pool_size=2,padding='valid')(x)\n",
        "\n",
        "x = keras.layers.Conv2D(64,3,strides=(2,2),padding='same')(x)\n",
        "x = keras.layers.BatchNormalization()(x)\n",
        "x = keras.layers.Activation(keras.activations.relu)(x)\n",
        "x = keras.layers.MaxPooling2D(pool_size=2,padding='valid')(x)\n",
        "\n",
        "x = keras.layers.Conv2D(96,2,padding='same')(x)\n",
        "x = keras.layers.BatchNormalization()(x)\n",
        "x = keras.layers.Activation(keras.activations.relu)(x)\n",
        "x = keras.layers.MaxPooling2D(pool_size=2,padding='valid')(x)\n",
        "\n",
        "x = keras.layers.Conv2D(128,2,padding='same')(x)\n",
        "x = keras.layers.BatchNormalization()(x)\n",
        "x = keras.layers.Activation(keras.activations.relu)(x)\n",
        "mSpec_output = keras.layers.GlobalMaxPooling2D()(x)\n",
        "\n",
        "mSpec_model = keras.Model(mSpec_input, mSpec_output, name=\"mSpecModel\")"
      ],
      "metadata": {
        "id": "Ms3V_-ykupOl"
      },
      "execution_count": null,
      "outputs": []
    },
    {
      "cell_type": "code",
      "source": [
        "mSpec_model.summary()"
      ],
      "metadata": {
        "id": "3st-JhLCu8c-"
      },
      "execution_count": null,
      "outputs": []
    },
    {
      "cell_type": "markdown",
      "source": [
        "### d. Dense Layers"
      ],
      "metadata": {
        "id": "1XvKcuJ_xfn-"
      }
    },
    {
      "cell_type": "code",
      "source": [
        "input_mfcc = keras.layers.Input(shape=(20,259,1),name=\"mfcc\")\n",
        "mfcc = mfcc_model(input_mfcc)\n",
        "\n",
        "input_croma = keras.layers.Input(shape=(12,259,1),name=\"croma\")\n",
        "croma = croma_model(input_croma)\n",
        "\n",
        "input_mSpec = keras.layers.Input(shape=(128,259,1),name=\"mspec\")\n",
        "mSpec = mSpec_model(input_mSpec)\n",
        "\n",
        "\n",
        "concat = keras.layers.concatenate([mfcc,croma,mSpec])\n",
        "hidden = keras.layers.Dropout(0.2)(concat)\n",
        "hidden = keras.layers.Dense(50,activation='relu')(concat)\n",
        "hidden = keras.layers.Dropout(0.3)(hidden)\n",
        "hidden = keras.layers.Dense(25,activation='relu')(hidden)\n",
        "hidden = keras.layers.Dropout(0.3)(hidden)\n",
        "output = keras.layers.Dense(8,activation='softmax')(hidden)\n",
        "\n",
        "net = keras.Model([input_mfcc,input_croma,input_mSpec], output, name=\"Net\")"
      ],
      "metadata": {
        "id": "jKcW1Tbyu9Hb"
      },
      "execution_count": null,
      "outputs": []
    },
    {
      "cell_type": "code",
      "source": [
        "net.summary()"
      ],
      "metadata": {
        "id": "h0uPndWGvJUI"
      },
      "execution_count": null,
      "outputs": []
    },
    {
      "cell_type": "code",
      "source": [
        "# keras.utils.plot_model(net, \"net.png\", show_shapes=True)"
      ],
      "metadata": {
        "id": "qDT010vRvRgv"
      },
      "execution_count": null,
      "outputs": []
    },
    {
      "cell_type": "code",
      "source": [
        "from keras import backend as K\n",
        "net.compile(loss='sparse_categorical_crossentropy', optimizer='nadam', metrics=['accuracy'])\n",
        "K.set_value(net.optimizer.learning_rate, 0.001)"
      ],
      "metadata": {
        "id": "ud7OHJrvvW7t"
      },
      "execution_count": null,
      "outputs": []
    },
    {
      "cell_type": "code",
      "source": [
        "history=net.fit(\n",
        "    {\"mfcc\":mfcc_train,\"croma\":cstft_train,\"mspec\":mSpec_train},\n",
        "    ytrain,\n",
        "    validation_data=({\"mfcc\":mfcc_val,\"croma\":cstft_val,\"mspec\":mSpec_val},yval),\n",
        "    epochs=100,verbose=0,\n",
        "    callbacks=my_callbacks\n",
        ")"
      ],
      "metadata": {
        "id": "zA5wQRJiva8j"
      },
      "execution_count": null,
      "outputs": []
    },
    {
      "cell_type": "code",
      "source": [
        "pd.DataFrame(history.history).plot()\n",
        "plt.grid(True)\n",
        "plt.gca().set_ylim(-0.1,1.1)\n",
        "plt.show()"
      ],
      "metadata": {
        "id": "j9UPEjifvdUF"
      },
      "execution_count": null,
      "outputs": []
    },
    {
      "cell_type": "code",
      "source": [
        "net.evaluate({\"mfcc\":mfcc_val,\"croma\":cstft_val,\"mspec\":mSpec_val},yval)"
      ],
      "metadata": {
        "id": "dtPhn9HOvgD2"
      },
      "execution_count": null,
      "outputs": []
    }
  ]
}